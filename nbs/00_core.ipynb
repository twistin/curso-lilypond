{
 "cells": [
  {
   "cell_type": "markdown",
   "metadata": {},
   "source": [
    "# Curso de edición y creación de partituras con Lilypond. Año académico 2022-2023.\n",
    "\n",
    "> Curso para la asignatura Nuevas Tecnologías, del Conservatorio Municipal de Música Reveriano Soutullo, para la creaación y edición de partituras con la herramienta de notación musical Lilypond basada en Python."
   ]
  },
  {
   "cell_type": "code",
   "execution_count": null,
   "metadata": {},
   "outputs": [],
   "source": [
    "#| default_exp core"
   ]
  },
  {
   "cell_type": "code",
   "execution_count": null,
   "metadata": {},
   "outputs": [],
   "source": [
    "#| hide\n",
    "from nbdev.showdoc import *"
   ]
  },
  {
   "cell_type": "code",
   "execution_count": 10,
   "metadata": {},
   "outputs": [],
   "source": [
    "#| hide\n",
    "def foo(): pass"
   ]
  },
  {
   "cell_type": "code",
   "execution_count": 1,
   "metadata": {},
   "outputs": [],
   "source": [
    "#| hide\n",
    "import nbdev; nbdev.nbdev_export()"
   ]
  },
  {
   "cell_type": "markdown",
   "metadata": {},
   "source": [
    "## Introducción y primera partitura.\n",
    "#### Tema I"
   ]
  },
  {
   "cell_type": "markdown",
   "metadata": {},
   "source": [
    "LilyPond es un programa de tipografía musical o edición de partituras, consagrado a la producción de partituras de la calidad más alta posible. Lleva la estética de la música tipografiada de la forma tradicional a las partituras impresas mediante ordenador."
   ]
  },
  {
   "cell_type": "markdown",
   "metadata": {},
   "source": [
    "## Historia de la tipografía musical"
   ]
  },
  {
   "cell_type": "markdown",
   "metadata": {},
   "source": [
    "El arte de la tipografía musical recibe el nombre de grabado (en plancha), un término que deriva del proceso manual de la impresión musical. Los impresores europeos de la antigüedad exploraron diversos procesos, entre los que se incluían los bloques de madera tallados a mano, los tipos móviles y planchas finas de metal grabadas. La composición tipográfica tenía la ventaja de poderse corregir más fácilmente y facilitar la inclusión de textos y la letra de las canciones, pero sólo el grabado ofrecía la posibilidad de elaborar notación libre de compromisos y limitaciones anticipadas. Al final, las partituras grabadas a mano se convirtieron en el estándar de toda la música impresa, con la excepción de algunos himnarios y cancioneros en los que la composición tipográfica estaba justificada por su comodidad y economía, incluso bien entrado el s.XX."
   ]
  },
  {
   "cell_type": "markdown",
   "metadata": {},
   "source": [
    "Hace tan sólo unas décadas, las partituras se hacían cortando y estampando la música en una plancha de zinc o estaño en imagen invertida como en un espejo. La plancha se entintaba, y las depresiones producidas por el grabado y el estampado retenían la tinta. Se formaba una imagen presionando el papel contra la plancha. El cortado y estampado se hacía completamente a mano y era muy fastidioso hacer una corrección, por lo que el grabado había de ser casi perfecto a la primera. El grabado era una habilidad fuertemente especializada; un artesano tenía que cursar unos cinco años de entrenamiento antes de poder obtener el título de maestro grabador, y se necesitaban otros cinco años para adquirir una verdadera habilidad en el oficio. [Fuente: página oficial Lilypond](https://lilypond.org/doc/v2.22/Documentation/essay.es.pdf)"
   ]
  },
  {
   "cell_type": "markdown",
   "metadata": {},
   "source": [
    "Ventajas de usar Lilypond respecto a otros programas:\n",
    "\n",
    "- Es gratis\n",
    "- Es Open-Source\n",
    "- Es multiplataforma"
   ]
  },
  {
   "cell_type": "markdown",
   "metadata": {},
   "source": [
    "Beneficios de usar Lilypond"
   ]
  },
  {
   "cell_type": "markdown",
   "metadata": {},
   "source": [
    "Las partituras se guardan en un simple archivo de texto ```.txt``` que puede ser editado con cualquier otro editor.\n",
    "- No tiene formatos propietarios \n",
    "- Puede editar partituras en cualquier lugar del mundo con cualquier dispositivo, y salvar los archivos del proyecto en DropBox, p. ej. y usarlos en cualquier editor de texto genérico"
   ]
  },
  {
   "cell_type": "markdown",
   "metadata": {},
   "source": [
    "Lilypond usa la estética del antiguo grabado de música a mano tradicional."
   ]
  },
  {
   "cell_type": "markdown",
   "metadata": {},
   "source": [
    "Puede integrar extractos de partituras o partituras completas en una variedad de otros proyectyos, incluidos documentos Latex, artículos científicos, musicología y trabajos de investigación e incluso HTML."
   ]
  },
  {
   "cell_type": "markdown",
   "metadata": {},
   "source": [
    "La instalación del programa sólo ocupa 25 Mb en la memoria, a diferencia de otros editores convencionales de 1 Gb o más"
   ]
  },
  {
   "cell_type": "markdown",
   "metadata": {},
   "source": [
    "Por último, Lilypond es gratis. ¿Qué se quiere decir con gratis? No sólo en un sentido material, es decir, no cuesta nada, no hay que comprarlo. Sino que además podemos ser completamente libres para usar, modificar, añadir, publicar, etc.. el programa y el uso que se haga de él."
   ]
  },
  {
   "cell_type": "markdown",
   "metadata": {},
   "source": [
    "## Instalación"
   ]
  },
  {
   "cell_type": "markdown",
   "metadata": {},
   "source": [
    "Lo primero que debemos hacer es descargar el programa. Abrimos el navegador y vamos a la página oficial de [Lilypond](https://lilypond.org)"
   ]
  },
  {
   "cell_type": "markdown",
   "metadata": {},
   "source": [
    "En la parte derecha de la ventana de la página veremos un menú de descarga donde se nos ofrece dos opciones para descargar, una estable y otra en desarrollo que es la más reciente. Escogemos esta segunda opción que que será sufucuente para lo que estamnos haciendo. Escogemos la opción de nuestro sistema operativo. Una vez descargada ejecutamos el programa por primera vez. Si parece no suceder nada, no entres en pánico. Esto es normal, está revisando las fuentes de tu sistema y una vez que finalice se abrirá. Obviamente este proceso será más rápido la próxima vez."
   ]
  },
  {
   "cell_type": "markdown",
   "metadata": {},
   "source": [
    "Cuando se abra Lilypond aparecerá una ventana emergente con un texto incorporado al editor de manera predeterminada. Seleccionamos todo el texto y lo eliminamos.\n",
    "A continuación lo salvamos en una carpeta previamente creada para nuestos proyectos.\n"
   ]
  },
  {
   "cell_type": "markdown",
   "metadata": {},
   "source": [
    "La extensión por defecto del archivo guardado es ```.ly```\n"
   ]
  },
  {
   "cell_type": "markdown",
   "metadata": {},
   "source": [
    "## Primera partitura"
   ]
  },
  {
   "cell_type": "markdown",
   "metadata": {},
   "source": [
    "La primera declaración de la partitura debe ser la versión que estamos usando de Lilypond:\n",
    "\n",
    "```\\version \"2.23.14\"  ```\n"
   ]
  },
  {
   "cell_type": "markdown",
   "metadata": {},
   "source": [
    "Esta declaración es importante entre otras cosas, porque si queremos correr la declaración con una versión anterior nos devolverá un mensaje de error que indicará que el programa es demasiado antiguo."
   ]
  },
  {
   "cell_type": "markdown",
   "metadata": {},
   "source": [
    "La siguiente parte de la partitura es la sección principal donde se colocará las articulaciones dinámicas de las notas musicales reales.\n",
    "Cuando se trabaja con Lilypond se debe pensar en la partitura como representada por expresiones musicales. Por ejemplo una sóla nota es una expresión musical. \n",
    "Para empezar a escribir notas lo primero que tenemos que hacer es escribir dos llaves donde se colocaran las notas en su interior:\n",
    "\n",
    "```{    }```\n"
   ]
  },
  {
   "cell_type": "markdown",
   "metadata": {},
   "source": [
    "Ejemplo:\n",
    "\n",
    "```{ a b c d e}```\n"
   ]
  },
  {
   "cell_type": "markdown",
   "metadata": {},
   "source": [
    "Si ejecutamos esta partitura sucederá que creaá dos archivos. Uno de registro, dónde se informará del proceso y de los errores si los hubiere y un segundo un PDF donde aparecerán las notas que hemos escrito entre llaves en un pentagrama, es decir nuestra partitura."
   ]
  },
  {
   "cell_type": "markdown",
   "metadata": {},
   "source": [
    "![Alt text](./abcde.png)"
   ]
  },
  {
   "cell_type": "markdown",
   "metadata": {},
   "source": [
    "Lo que ha sucedido es que Lilypond además de escribir nuestras notas La,si,Do,Re y Mi, ha escrito otros elementos él sólo por nosotros. Cmo la clave, el compás las líneas del pentagrama y divisoria. Debe apreciarse que también por defecto nos ha proporcionado una duración de las notas que al ser cinco, distribuyó en 5 negras en dos compases.\n",
    "Cubriremos este aspecto en las próximas clases. \n",
    "Pero por ahora, acabas de crear tu primera partitura con Lilypond."
   ]
  }
 ],
 "metadata": {
  "kernelspec": {
   "display_name": "Python 3 (ipykernel)",
   "language": "python",
   "name": "python3"
  },
  "language_info": {
   "codemirror_mode": {
    "name": "ipython",
    "version": 3
   },
   "file_extension": ".py",
   "mimetype": "text/x-python",
   "name": "python",
   "nbconvert_exporter": "python",
   "pygments_lexer": "ipython3",
   "version": "3.9.13"
  }
 },
 "nbformat": 4,
 "nbformat_minor": 4
}
